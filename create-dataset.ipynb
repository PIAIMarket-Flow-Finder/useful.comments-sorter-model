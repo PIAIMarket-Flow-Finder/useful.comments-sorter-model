{
 "cells": [
  {
   "cell_type": "code",
   "execution_count": 2,
   "id": "34e29968",
   "metadata": {},
   "outputs": [],
   "source": [
    "import json\n",
    "import random\n",
    "from pathlib import Path"
   ]
  },
  {
   "cell_type": "code",
   "execution_count": null,
   "id": "3ba44da9",
   "metadata": {},
   "outputs": [
    {
     "name": "stdout",
     "output_type": "stream",
     "text": [
      "[PosixPath('data/yuka.json'), PosixPath('data/swissquote.json'), PosixPath('data/pokemongo.json'), PosixPath('data/ubereat.json'), PosixPath('data/request.json'), PosixPath('data/instagram.json'), PosixPath('data/amazon.json'), PosixPath('data/netflix.json'), PosixPath('data/disneyplus.json'), PosixPath('data/meteoswiss.json'), PosixPath('data/facebook.json'), PosixPath('data/primevideo.json'), PosixPath('data/galaxus.json'), PosixPath('data/cff.json'), PosixPath('data/tl.json'), PosixPath('data/tpg.json'), PosixPath('data/20minutesfr.json'), PosixPath('data/candycrush.json'), PosixPath('data/twitter.json'), PosixPath('data/raiffeisen.json'), PosixPath('data/worldoftanks.json'), PosixPath('data/ubs.json')]\n"
     ]
    }
   ],
   "source": [
    "json_dir = Path(\"data/apps\")\n",
    "json_files = list(json_dir.glob(\"*.json\"))\n",
    "print(json_files)"
   ]
  },
  {
   "cell_type": "code",
   "execution_count": 15,
   "id": "fa236be8",
   "metadata": {},
   "outputs": [
    {
     "name": "stdout",
     "output_type": "stream",
     "text": [
      "le fichier data/yuka.json contient 10000 commentaires\n",
      "le fichier data/swissquote.json contient 299 commentaires\n",
      "le fichier data/pokemongo.json contient 10000 commentaires\n",
      "le fichier data/ubereat.json contient 10000 commentaires\n",
      "⚠️ Ignoré request.json : pas d'objet 'comments'\n",
      "le fichier data/instagram.json contient 10000 commentaires\n",
      "le fichier data/amazon.json contient 10000 commentaires\n",
      "le fichier data/netflix.json contient 10000 commentaires\n",
      "le fichier data/disneyplus.json contient 10000 commentaires\n",
      "le fichier data/meteoswiss.json contient 1501 commentaires\n",
      "le fichier data/facebook.json contient 10000 commentaires\n",
      "le fichier data/primevideo.json contient 10000 commentaires\n",
      "le fichier data/galaxus.json contient 161 commentaires\n",
      "le fichier data/cff.json contient 1673 commentaires\n",
      "le fichier data/tl.json contient 533 commentaires\n",
      "le fichier data/tpg.json contient 1033 commentaires\n",
      "le fichier data/20minutesfr.json contient 1632 commentaires\n",
      "le fichier data/candycrush.json contient 10000 commentaires\n",
      "le fichier data/twitter.json contient 10000 commentaires\n",
      "le fichier data/raiffeisen.json contient 919 commentaires\n",
      "le fichier data/worldoftanks.json contient 10000 commentaires\n",
      "le fichier data/ubs.json contient 2466 commentaires\n"
     ]
    }
   ],
   "source": [
    "dataset = []\n",
    "for file in json_files:\n",
    "    with open(file, \"r\", encoding=\"utf-8\") as f:\n",
    "        data = json.load(f)\n",
    "        if isinstance(data, dict) and \"comments\" in data:\n",
    "            print(f\"le fichier {file} contient {len(data['comments'])} commentaires\")\n",
    "            dataset.extend(data[\"comments\"])\n",
    "        else:\n",
    "            print(f\"⚠️ Ignoré {file.name} : pas d'objet 'comments'\")"
   ]
  },
  {
   "cell_type": "code",
   "execution_count": 22,
   "id": "2f9239f6",
   "metadata": {},
   "outputs": [
    {
     "name": "stdout",
     "output_type": "stream",
     "text": [
      "le dataset comprend 130217 commentaires\n"
     ]
    }
   ],
   "source": [
    "print(f\"le dataset comprend {len(dataset)} commentaires\")\n",
    "\n",
    "#Mélange des commentaires\n",
    "random.shuffle(dataset)"
   ]
  },
  {
   "cell_type": "code",
   "execution_count": null,
   "id": "f0b2f331",
   "metadata": {},
   "outputs": [],
   "source": [
    "#Enregistrer dans un json\n",
    "with open(\"data/all_comments.json\", \"w\", encoding=\"utf-8\") as f:\n",
    "    json.dump(dataset, f, ensure_ascii=False, indent=2)"
   ]
  }
 ],
 "metadata": {
  "kernelspec": {
   "display_name": ".venv",
   "language": "python",
   "name": "python3"
  },
  "language_info": {
   "codemirror_mode": {
    "name": "ipython",
    "version": 3
   },
   "file_extension": ".py",
   "mimetype": "text/x-python",
   "name": "python",
   "nbconvert_exporter": "python",
   "pygments_lexer": "ipython3",
   "version": "3.12.3"
  }
 },
 "nbformat": 4,
 "nbformat_minor": 5
}
