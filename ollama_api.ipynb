{
 "cells": [
  {
   "cell_type": "code",
   "execution_count": 1,
   "id": "6b05be18",
   "metadata": {},
   "outputs": [],
   "source": [
    "import requests"
   ]
  },
  {
   "cell_type": "code",
   "execution_count": 6,
   "id": "a7e8af01",
   "metadata": {},
   "outputs": [],
   "source": [
    "response = requests.get(\"https://ollama.kube.isc.heia-fr.ch/api/tags\")"
   ]
  },
  {
   "cell_type": "code",
   "execution_count": 7,
   "id": "9ec76b71",
   "metadata": {},
   "outputs": [
    {
     "name": "stdout",
     "output_type": "stream",
     "text": [
      "Nom : phi4-mini-reasoning:latest | Taille : 3152479391 | Date : n/a\n",
      "Nom : phi4-mini:latest | Taille : 2491876774 | Date : n/a\n",
      "Nom : phi4-reasoning:latest | Taille : 11117503233 | Date : n/a\n",
      "Nom : qwen3:30b | Taille : 18622562938 | Date : n/a\n",
      "Nom : qwen3:32b | Taille : 20201253588 | Date : n/a\n",
      "Nom : qwen3:14b | Taille : 9276198324 | Date : n/a\n",
      "Nom : qwen3:8b | Taille : 5225387923 | Date : n/a\n",
      "Nom : qwen3:4b | Taille : 2620788019 | Date : n/a\n",
      "Nom : qwen3:1.7b | Taille : 1359293203 | Date : n/a\n",
      "Nom : qwen3:0.6b | Taille : 522653526 | Date : n/a\n",
      "Nom : gemma3:12b | Taille : 8149190253 | Date : n/a\n",
      "Nom : phi4:latest | Taille : 9053116391 | Date : n/a\n",
      "Nom : qwen2.5:7b | Taille : 4683087332 | Date : n/a\n",
      "Nom : mistral-small3.1:latest | Taille : 15486899116 | Date : n/a\n",
      "Nom : mixtral:latest | Taille : 26443602516 | Date : n/a\n",
      "Nom : qwen2.5:32b-instruct | Taille : 19851349669 | Date : n/a\n",
      "Nom : qwen2.5:14b-instruct | Taille : 8988124069 | Date : n/a\n",
      "Nom : erwan2/DeepSeek-Janus-Pro-7B:latest | Taille : 4223360703 | Date : n/a\n",
      "Nom : minicpm-v:latest | Taille : 5473838466 | Date : n/a\n",
      "Nom : llama3:latest | Taille : 4661224676 | Date : n/a\n",
      "Nom : gemma3:1b | Taille : 815319769 | Date : n/a\n",
      "Nom : gemma3:27b | Taille : 17396936887 | Date : n/a\n",
      "Nom : gemma3:4b | Taille : 3338937558 | Date : n/a\n",
      "Nom : qwq:latest | Taille : 19851349390 | Date : n/a\n",
      "Nom : granite3.2-vision:latest | Taille : 2437852465 | Date : n/a\n",
      "Nom : phi3.5:latest | Taille : 2176178843 | Date : n/a\n",
      "Nom : qwen2.5-coder:latest | Taille : 4683087519 | Date : n/a\n",
      "Nom : mxbai-embed-large:latest | Taille : 669615493 | Date : n/a\n",
      "Nom : qwen2.5:3b | Taille : 1929912432 | Date : n/a\n",
      "Nom : mistral-small:latest | Taille : 14333921662 | Date : n/a\n",
      "Nom : deepseek-r1:14b | Taille : 8988112040 | Date : n/a\n",
      "Nom : deepseek-r1:7b | Taille : 4683075271 | Date : n/a\n",
      "Nom : gemma:latest | Taille : 5011853225 | Date : n/a\n",
      "Nom : bge-m3:latest | Taille : 1157672605 | Date : n/a\n",
      "Nom : llama3.1:8b | Taille : 4920753328 | Date : n/a\n",
      "Nom : qwen2_5_7b_8k:latest | Taille : 4683087423 | Date : n/a\n",
      "Nom : qwen2.5:14b | Taille : 8988124069 | Date : n/a\n",
      "Nom : llama3.2-vision:latest | Taille : 7901829417 | Date : n/a\n",
      "Nom : llama3.2:3b | Taille : 2019393189 | Date : n/a\n",
      "Nom : llama3.2:1b | Taille : 1321098329 | Date : n/a\n",
      "Nom : qwen2.5:0.5b | Taille : 397821319 | Date : n/a\n",
      "Nom : qwen2.5:latest | Taille : 4683087332 | Date : n/a\n",
      "Nom : qwen2.5:1.5b | Taille : 986061892 | Date : n/a\n",
      "Nom : llama3.1:latest | Taille : 4661230766 | Date : n/a\n"
     ]
    }
   ],
   "source": [
    "if response.status_code == 200:\n",
    "    models = response.json().get(\"models\", [])\n",
    "    for model in models:\n",
    "        print(f\"Nom : {model['name']} | Taille : {model.get('size', 'inconnue')} | Date : {model.get('modified', 'n/a')}\")\n",
    "else:\n",
    "    print(\"Erreur lors de la récupération des modèles :\", response.text)"
   ]
  }
 ],
 "metadata": {
  "kernelspec": {
   "display_name": ".venv",
   "language": "python",
   "name": "python3"
  },
  "language_info": {
   "codemirror_mode": {
    "name": "ipython",
    "version": 3
   },
   "file_extension": ".py",
   "mimetype": "text/x-python",
   "name": "python",
   "nbconvert_exporter": "python",
   "pygments_lexer": "ipython3",
   "version": "3.12.3"
  }
 },
 "nbformat": 4,
 "nbformat_minor": 5
}
